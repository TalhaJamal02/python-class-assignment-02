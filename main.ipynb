{
  "nbformat": 4,
  "nbformat_minor": 0,
  "metadata": {
    "colab": {
      "provenance": [],
      "toc_visible": true,
      "authorship_tag": "ABX9TyPZfIdmBkUB15Vi0tLZOvww",
      "include_colab_link": true
    },
    "kernelspec": {
      "name": "python3",
      "display_name": "Python 3"
    },
    "language_info": {
      "name": "python"
    }
  },
  "cells": [
    {
      "cell_type": "markdown",
      "metadata": {
        "id": "view-in-github",
        "colab_type": "text"
      },
      "source": [
        "<a href=\"https://colab.research.google.com/github/TalhaJamal02/python-class-assignment-02/blob/main/main.ipynb\" target=\"_parent\"><img src=\"https://colab.research.google.com/assets/colab-badge.svg\" alt=\"Open In Colab\"/></a>"
      ]
    },
    {
      "cell_type": "markdown",
      "source": [
        "# **Grading System**"
      ],
      "metadata": {
        "id": "V3eMtYg-tfw5"
      }
    },
    {
      "cell_type": "code",
      "source": [
        "marks = float(input(\"Enter your marks: \"))\n",
        "\n",
        "if marks > 100:\n",
        "    print(\"Invalid marks\")\n",
        "    grade = \"None\"\n",
        "elif marks >= 90:\n",
        "    grade = \"A+\"\n",
        "elif marks >= 80:\n",
        "    grade = \"A\"\n",
        "elif marks >= 70:\n",
        "    grade = \"B\"\n",
        "elif marks >= 60:\n",
        "    grade = \"C\"\n",
        "elif marks >= 50:\n",
        "    grade = \"D\"\n",
        "else:\n",
        "    grade = \"F\"\n",
        "\n",
        "print(f\"Your Grade is: {grade}\")"
      ],
      "metadata": {
        "colab": {
          "base_uri": "https://localhost:8080/"
        },
        "id": "wQ8TWKkn5nY_",
        "outputId": "185a9299-1ca9-4d68-b8b2-a7e6b34a8ed1"
      },
      "execution_count": 11,
      "outputs": [
        {
          "output_type": "stream",
          "name": "stdout",
          "text": [
            "Enter your marks: 89.9\n",
            "Your Grade is: A\n"
          ]
        }
      ]
    },
    {
      "cell_type": "markdown",
      "source": [
        "# **Simple Calculator**"
      ],
      "metadata": {
        "id": "7Hvd5gSl7tMX"
      }
    },
    {
      "cell_type": "code",
      "source": [
        "num1= float(input(\"Enter first number: \"))\n",
        "operation = input(\"Enter operators (+, -, *, /): \")\n",
        "num2= float(input(\"Enter second number: \"))\n",
        "\n",
        "if operation == \"+\":\n",
        "  result =  num1 + num2\n",
        "elif operation == \"-\":\n",
        "  result = num1 - num2\n",
        "elif operation == \"*\":\n",
        "  result = num1 * num2\n",
        "elif operation == \"/\":\n",
        "  if num2 != 0:\n",
        "    result = num1 / num2\n",
        "  else:\n",
        "    result = \"\"\n",
        "    print(\"Division by zero is not possible\")\n",
        "else:\n",
        "  print(\"Invalid operation\")\n",
        "\n",
        "print(\"Result:\", result)"
      ],
      "metadata": {
        "colab": {
          "base_uri": "https://localhost:8080/"
        },
        "id": "Zv3xczCD787P",
        "outputId": "99fac485-92c8-4268-eef1-850e79dbebd8"
      },
      "execution_count": 22,
      "outputs": [
        {
          "output_type": "stream",
          "name": "stdout",
          "text": [
            "Enter first number: 45\n",
            "Enter operators (+, -, *, /): *\n",
            "Enter second number: 7\n",
            "Result: 315.0\n"
          ]
        }
      ]
    }
  ]
}